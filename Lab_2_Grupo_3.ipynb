{
  "nbformat": 4,
  "nbformat_minor": 0,
  "metadata": {
    "colab": {
      "name": "Lab 2 - Grupo 3.ipynb",
      "provenance": [],
      "collapsed_sections": []
    },
    "kernelspec": {
      "name": "python3",
      "display_name": "Python 3"
    },
    "language_info": {
      "name": "python"
    }
  },
  "cells": [
    {
      "cell_type": "markdown",
      "metadata": {
        "id": "rFAhYeUnpmOv"
      },
      "source": [
        "# Laboratorio 2: Armado de un esquema de aprendizaje automático\n",
        "En el laboratorio final se espera que puedan poner en práctica los conocimientos adquiridos en el curso, trabajando con un conjunto de datos de clasificación.\n",
        "\n",
        "El objetivo es que se introduzcan en el desarrollo de un esquema para hacer tareas de aprendizaje automático: selección de un modelo, ajuste de hiperparámetros y evaluación.\n",
        "\n",
        "El conjunto de datos a utilizar está en ./data/loan_data.csv. Si abren el archivo verán que al principio (las líneas que empiezan con #) describen el conjunto de datos y sus atributos (incluyendo el atributo de etiqueta o clase).\n",
        "\n",
        "Se espera que hagan uso de las herramientas vistas en el curso. Se espera que hagan uso especialmente de las herramientas brindadas por scikit-learn."
      ]
    },
    {
      "cell_type": "code",
      "metadata": {
        "id": "lHEhk51Zpc9K"
      },
      "source": [
        "import numpy as np\n",
        "import pandas as pd\n",
        "\n",
        "# TODO: Agregar las librerías que hagan falta\n",
        "from sklearn.model_selection import train_test_split"
      ],
      "execution_count": null,
      "outputs": []
    },
    {
      "cell_type": "code",
      "metadata": {
        "id": "_8a581ZhuK17"
      },
      "source": [
        "np.random.seed(42)"
      ],
      "execution_count": null,
      "outputs": []
    },
    {
      "cell_type": "markdown",
      "metadata": {
        "id": "grAVjOBMptne"
      },
      "source": [
        "## Carga de datos y división en entrenamiento y evaluación\n",
        "La celda siguiente se encarga de la carga de datos (haciendo uso de pandas). Estos serán los que se trabajarán en el resto del laboratorio."
      ]
    },
    {
      "cell_type": "code",
      "metadata": {
        "id": "ru1be59Gprfm"
      },
      "source": [
        "dataset = pd.read_csv(\"https://raw.githubusercontent.com/DiploDatos/IntroduccionAprendizajeAutomatico/master/data/loan_data.csv\", comment=\"#\")\n",
        "\n",
        "# División entre instancias y etiquetas\n",
        "X, y = dataset.iloc[:, 1:], dataset.TARGET\n",
        "\n",
        "# división entre entrenamiento y evaluación\n",
        "X_train, X_test, y_train, y_test = train_test_split(X, y, test_size=0.2, random_state=0)"
      ],
      "execution_count": null,
      "outputs": []
    },
    {
      "cell_type": "markdown",
      "metadata": {
        "id": "w5zW-eJQp_bz"
      },
      "source": [
        "\n",
        "Documentación:\n",
        "\n",
        "* https://scikit-learn.org/stable/modules/generated/sklearn.model_selection.train_test_split.html"
      ]
    },
    {
      "cell_type": "markdown",
      "metadata": {
        "id": "D5VbsNT6qL8z"
      },
      "source": [
        "### Ejercicio 1: Descripción de los Datos y la Tarea\n",
        "Responder las siguientes preguntas:\n",
        "\n",
        "* ¿De qué se trata el conjunto de datos?\n",
        "* ¿Cuál es la variable objetivo que hay que predecir? ¿Qué significado tiene?\n",
        "* ¿Qué información (atributos) hay disponible para hacer la predicción?\n",
        "* ¿Qué atributos imagina ud. que son los más determinantes para la predicción?\n",
        "* No hace falta escribir código para responder estas preguntas."
      ]
    },
    {
      "cell_type": "markdown",
      "metadata": {
        "id": "VDk3gN_xrVdJ"
      },
      "source": [
        "#### **Respuesta**\n",
        "* Es un conjunto de datos relacionados a usuarios para la aprobacion de lineas de credito con garantia hipotecaria. La recopilacion se dio de resultados de sujetos que previamente pasaron por este proceso de forma manual.\n",
        "* Crear un modelo predictivo solido que permita decidir si el sujeto con intencion al credito se le debe dar o no.\n",
        "* Atributos:\n",
        "  * **Label** Objetivo:\n",
        "    * 1 el cliente incumplio el prestamos\n",
        "    * 0 prestamos reembolsado\n",
        "  * **LOAN**: Monto solicitado\n",
        "  * **MORTURE**: Monto audedado de la hipoteca existente\n",
        "  * **VALUE**: Valor de la propiedad actual\n",
        "  * **YOJ**: Anios en el trabajo actual\n",
        "  * **DEREGOJ**: Número de informes despectivos importantes\n",
        "  * **DELINQ**: Número de líneas de crédito morosas\n",
        "  * **CLAGE**: Antigüedad de la línea comercial más antigua en meses\n",
        "  * **NINQ** Número de líneas de crédito recientes\n",
        "  * **CLNO** Número de líneas de crédito\n",
        "  * **DEBTINC** Relación deuda-ingresos \n",
        "* La LABEL, DEBTINC, VALUE serian las variables mas importantes que no deberian de faltar en el analisis."
      ]
    },
    {
      "cell_type": "markdown",
      "metadata": {
        "id": "5YaXK2GgqxhW"
      },
      "source": [
        "### Ejercicio 2: Predicción con Modelos Lineales\n",
        "En este ejercicio se entrenarán modelos lineales de clasificación para predecir la variable objetivo.\n",
        "\n",
        "Para ello, deberán utilizar la clase SGDClassifier de scikit-learn.\n",
        "\n",
        "Documentación:\n",
        "\n",
        "* https://scikit-learn.org/stable/modules/sgd.html\n",
        "* https://scikit-learn.org/stable/modules/generated/sklearn.linear_model.SGDClassifier.html"
      ]
    },
    {
      "cell_type": "markdown",
      "metadata": {
        "id": "I0lrkUmBqR0I"
      },
      "source": [
        "#### Ejercicio 2.1: SGDClassifier con hiperparámetros por defecto\n",
        "Entrenar y evaluar el clasificador SGDClassifier usando los valores por omisión de scikit-learn para todos los parámetros. Únicamente fijar la semilla aleatoria para hacer repetible el experimento.\n",
        "\n",
        "Evaluar sobre el conjunto de entrenamiento y sobre el conjunto de evaluación, reportando:\n",
        "\n",
        "* Accuracy\n",
        "* Precision\n",
        "* Recall\n",
        "* F1\n",
        "* matriz de confusión"
      ]
    },
    {
      "cell_type": "code",
      "metadata": {
        "colab": {
          "base_uri": "https://localhost:8080/"
        },
        "id": "sPWR7w2LqzJ-",
        "outputId": "19ca7cf2-cfa9-4805-89ec-cf9552eb6900"
      },
      "source": [
        "from sklearn.linear_model import SGDClassifier\n",
        "from sklearn.metrics import classification_report\n",
        "\n",
        "clf = SGDClassifier()\n",
        "\n",
        "clf.fit(X_train, y_train)\n",
        "\n",
        "y_pred = clf.predict(X_test)\n",
        "\n",
        "print(classification_report(y_test, y_pred))"
      ],
      "execution_count": null,
      "outputs": [
        {
          "output_type": "stream",
          "text": [
            "              precision    recall  f1-score   support\n",
            "\n",
            "           0       0.84      1.00      0.92       313\n",
            "           1       0.00      0.00      0.00        58\n",
            "\n",
            "    accuracy                           0.84       371\n",
            "   macro avg       0.42      0.50      0.46       371\n",
            "weighted avg       0.71      0.84      0.77       371\n",
            "\n"
          ],
          "name": "stdout"
        },
        {
          "output_type": "stream",
          "text": [
            "/usr/local/lib/python3.7/dist-packages/sklearn/metrics/_classification.py:1272: UndefinedMetricWarning: Precision and F-score are ill-defined and being set to 0.0 in labels with no predicted samples. Use `zero_division` parameter to control this behavior.\n",
            "  _warn_prf(average, modifier, msg_start, len(result))\n"
          ],
          "name": "stderr"
        }
      ]
    },
    {
      "cell_type": "code",
      "metadata": {
        "id": "BRq9u4p_wxSc",
        "colab": {
          "base_uri": "https://localhost:8080/",
          "height": 296
        },
        "outputId": "03453e22-e3e5-4728-810b-d19f6ba9ca4e"
      },
      "source": [
        "from sklearn.metrics import plot_confusion_matrix\n",
        "\n",
        "plot_confusion_matrix(clf, X_test, y_test)"
      ],
      "execution_count": null,
      "outputs": [
        {
          "output_type": "execute_result",
          "data": {
            "text/plain": [
              "<sklearn.metrics._plot.confusion_matrix.ConfusionMatrixDisplay at 0x7f3ad3439410>"
            ]
          },
          "metadata": {
            "tags": []
          },
          "execution_count": 5
        },
        {
          "output_type": "display_data",
          "data": {
            "image/png": "[encoded data removed]",
            "text/plain": [
              "<Figure size 432x288 with 2 Axes>"
            ]
          },
          "metadata": {
            "tags": [],
            "needs_background": "light"
          }
        }
      ]
    },
    {
      "cell_type": "markdown",
      "metadata": {
        "id": "IRSsbJg1qc-S"
      },
      "source": [
        "#### Ejercicio 2.2: Ajuste de Hiperparámetros\n",
        "Seleccionar valores para los hiperparámetros principales del SGDClassifier. Como mínimo, probar diferentes funciones de loss, tasas de entrenamiento y tasas de regularización.\n",
        "\n",
        "Para ello, usar grid-search y 5-fold cross-validation sobre el conjunto de entrenamiento para explorar muchas combinaciones posibles de valores.\n",
        "\n",
        "Reportar accuracy promedio y varianza para todas las configuraciones.\n",
        "\n",
        "Para la mejor configuración encontrada, evaluar sobre el conjunto de entrenamiento y sobre el conjunto de evaluación, reportando:\n",
        "\n",
        "* Accuracy\n",
        "* Precision\n",
        "* Recall\n",
        "* F1\n",
        "* matriz de confusión\n",
        "* Documentación:\n",
        "\n",
        "\n",
        "* https://scikit-learn.org/stable/modules/grid_search.html\n",
        "* https://scikit-learn.org/stable/modules/generated/sklearn.model_selection.GridSearchCV.html"
      ]
    },
    {
      "cell_type": "code",
      "metadata": {
        "id": "hYDLpvowq0Ci"
      },
      "source": [
        "param_grid = {\n",
        "    'loss':  [\"hinge\", \"log\", \"squared_hinge\", \"perceptron\"],\n",
        "    \"early_stopping\": [ True, False],\n",
        "    \"alpha\": [0.005, 0.0001, 0.0005, 0.0001, 0.00005],\n",
        "    \"epsilon\": [0.5, 0.2, 0.15, 0.1, 0.05, 0.001]\n",
        "}"
      ],
      "execution_count": null,
      "outputs": []
    },
    {
      "cell_type": "code",
      "metadata": {
        "colab": {
          "base_uri": "https://localhost:8080/"
        },
        "id": "8APf0CqizayH",
        "outputId": "a5aa4305-4bfd-4aa0-8e6f-31a1c0f50e0c"
      },
      "source": [
        "from sklearn.model_selection import GridSearchCV\n",
        "\n",
        "clf = GridSearchCV(SGDClassifier(), param_grid,scoring='accuracy', cv=3)\n",
        "clf.fit(X_train, y_train)"
      ],
      "execution_count": null,
      "outputs": [
        {
          "output_type": "execute_result",
          "data": {
            "text/plain": [
              "GridSearchCV(cv=3, error_score=nan,\n",
              "             estimator=SGDClassifier(alpha=0.0001, average=False,\n",
              "                                     class_weight=None, early_stopping=False,\n",
              "                                     epsilon=0.1, eta0=0.0, fit_intercept=True,\n",
              "                                     l1_ratio=0.15, learning_rate='optimal',\n",
              "                                     loss='hinge', max_iter=1000,\n",
              "                                     n_iter_no_change=5, n_jobs=None,\n",
              "                                     penalty='l2', power_t=0.5,\n",
              "                                     random_state=None, shuffle=True, tol=0.001,\n",
              "                                     validation_fraction=0.1, verbose=0,\n",
              "                                     warm_start=False),\n",
              "             iid='deprecated', n_jobs=None,\n",
              "             param_grid={'alpha': [0.005, 0.0001, 0.0005, 0.0001, 5e-05],\n",
              "                         'early_stopping': [True, False],\n",
              "                         'epsilon': [0.5, 0.2, 0.15, 0.1, 0.05, 0.001],\n",
              "                         'loss': ['hinge', 'log', 'squared_hinge',\n",
              "                                  'perceptron']},\n",
              "             pre_dispatch='2*n_jobs', refit=True, return_train_score=False,\n",
              "             scoring='accuracy', verbose=0)"
            ]
          },
          "metadata": {
            "tags": []
          },
          "execution_count": 7
        }
      ]
    },
    {
      "cell_type": "code",
      "metadata": {
        "colab": {
          "base_uri": "https://localhost:8080/",
          "height": 204
        },
        "id": "tkM1Wqx1qz6n",
        "outputId": "5fc1d2a0-d79b-4f84-cdf9-32c224d5bfc8"
      },
      "source": [
        "results = clf.cv_results_\n",
        "import pandas as pd\n",
        "df = pd.DataFrame(results)\n",
        "val = df[['params', 'mean_test_score', 'std_test_score', 'rank_test_score']].sort_values('rank_test_score')[:5]\n",
        "val"
      ],
      "execution_count": null,
      "outputs": [
        {
          "output_type": "execute_result",
          "data": {
            "text/html": [
              "<div>\n",
              "<style scoped>\n",
              "    .dataframe tbody tr th:only-of-type {\n",
              "        vertical-align: middle;\n",
              "    }\n",
              "\n",
              "    .dataframe tbody tr th {\n",
              "        vertical-align: top;\n",
              "    }\n",
              "\n",
              "    .dataframe thead th {\n",
              "        text-align: right;\n",
              "    }\n",
              "</style>\n",
              "<table border=\"1\" class=\"dataframe\">\n",
              "  <thead>\n",
              "    <tr style=\"text-align: right;\">\n",
              "      <th></th>\n",
              "      <th>params</th>\n",
              "      <th>mean_test_score</th>\n",
              "      <th>std_test_score</th>\n",
              "      <th>rank_test_score</th>\n",
              "    </tr>\n",
              "  </thead>\n",
              "  <tbody>\n",
              "    <tr>\n",
              "      <th>193</th>\n",
              "      <td>{'alpha': 5e-05, 'early_stopping': True, 'epsi...</td>\n",
              "      <td>0.831424</td>\n",
              "      <td>0.000792</td>\n",
              "      <td>1</td>\n",
              "    </tr>\n",
              "    <tr>\n",
              "      <th>159</th>\n",
              "      <td>{'alpha': 0.0001, 'early_stopping': True, 'eps...</td>\n",
              "      <td>0.831424</td>\n",
              "      <td>0.000792</td>\n",
              "      <td>1</td>\n",
              "    </tr>\n",
              "    <tr>\n",
              "      <th>120</th>\n",
              "      <td>{'alpha': 0.0005, 'early_stopping': False, 'ep...</td>\n",
              "      <td>0.831422</td>\n",
              "      <td>0.001044</td>\n",
              "      <td>3</td>\n",
              "    </tr>\n",
              "    <tr>\n",
              "      <th>147</th>\n",
              "      <td>{'alpha': 0.0001, 'early_stopping': True, 'eps...</td>\n",
              "      <td>0.831422</td>\n",
              "      <td>0.001044</td>\n",
              "      <td>3</td>\n",
              "    </tr>\n",
              "    <tr>\n",
              "      <th>57</th>\n",
              "      <td>{'alpha': 0.0001, 'early_stopping': True, 'eps...</td>\n",
              "      <td>0.830749</td>\n",
              "      <td>0.000884</td>\n",
              "      <td>5</td>\n",
              "    </tr>\n",
              "  </tbody>\n",
              "</table>\n",
              "</div>"
            ],
            "text/plain": [
              "                                                params  ...  rank_test_score\n",
              "193  {'alpha': 5e-05, 'early_stopping': True, 'epsi...  ...                1\n",
              "159  {'alpha': 0.0001, 'early_stopping': True, 'eps...  ...                1\n",
              "120  {'alpha': 0.0005, 'early_stopping': False, 'ep...  ...                3\n",
              "147  {'alpha': 0.0001, 'early_stopping': True, 'eps...  ...                3\n",
              "57   {'alpha': 0.0001, 'early_stopping': True, 'eps...  ...                5\n",
              "\n",
              "[5 rows x 4 columns]"
            ]
          },
          "metadata": {
            "tags": []
          },
          "execution_count": 8
        }
      ]
    },
    {
      "cell_type": "code",
      "metadata": {
        "colab": {
          "base_uri": "https://localhost:8080/"
        },
        "id": "FdWJuc9d2Qh_",
        "outputId": "4841705b-c0cc-4650-a3b4-009ed4f84c88"
      },
      "source": [
        "from operator import itemgetter\n",
        "\n",
        "for i in range(3):\n",
        "  alpha, epsilon, loss, early_stopping = itemgetter('alpha','epsilon','loss', \"early_stopping\")(val.params.iloc[i])\n",
        "  print(\"CASE :: \",i,\"alpha:\", alpha,\"\\t epsilo:\", epsilon, \"\\t loss:\", loss, \"\\t early_stopping\", early_stopping)\n",
        "\n",
        "  clf_best = SGDClassifier(alpha=alpha, epsilon=epsilon, loss=loss, early_stopping=early_stopping)\n",
        "  clf_best.fit(X_train, y_train)\n",
        "  y_pred = clf_best.predict(X_test)\n",
        "  print(classification_report(y_test, y_pred))\n",
        "  print(\"\\n\")"
      ],
      "execution_count": null,
      "outputs": [
        {
          "output_type": "stream",
          "text": [
            "CASE ::  0 alpha: 5e-05 \t epsilo: 0.5 \t loss: log \t early_stopping True\n",
            "              precision    recall  f1-score   support\n",
            "\n",
            "           0       0.84      0.93      0.88       313\n",
            "           1       0.05      0.02      0.03        58\n",
            "\n",
            "    accuracy                           0.79       371\n",
            "   macro avg       0.44      0.48      0.45       371\n",
            "weighted avg       0.71      0.79      0.75       371\n",
            "\n",
            "\n",
            "\n",
            "CASE ::  1 alpha: 0.0001 \t epsilo: 0.1 \t loss: perceptron \t early_stopping True\n",
            "              precision    recall  f1-score   support\n",
            "\n",
            "           0       0.84      0.99      0.91       313\n",
            "           1       0.00      0.00      0.00        58\n",
            "\n",
            "    accuracy                           0.84       371\n",
            "   macro avg       0.42      0.50      0.46       371\n",
            "weighted avg       0.71      0.84      0.77       371\n",
            "\n",
            "\n",
            "\n",
            "CASE ::  2 alpha: 0.0005 \t epsilo: 0.5 \t loss: hinge \t early_stopping False\n",
            "              precision    recall  f1-score   support\n",
            "\n",
            "           0       0.85      0.58      0.69       313\n",
            "           1       0.16      0.43      0.23        58\n",
            "\n",
            "    accuracy                           0.56       371\n",
            "   macro avg       0.50      0.50      0.46       371\n",
            "weighted avg       0.74      0.56      0.62       371\n",
            "\n",
            "\n",
            "\n"
          ],
          "name": "stdout"
        }
      ]
    },
    {
      "cell_type": "code",
      "metadata": {
        "id": "dL_rCHuM3pL2",
        "colab": {
          "base_uri": "https://localhost:8080/",
          "height": 299
        },
        "outputId": "8309ed76-96bf-453e-e7b8-06a10968dae6"
      },
      "source": [
        "plot_confusion_matrix(clf_best, X_test, y_test)"
      ],
      "execution_count": null,
      "outputs": [
        {
          "output_type": "execute_result",
          "data": {
            "text/plain": [
              "<sklearn.metrics._plot.confusion_matrix.ConfusionMatrixDisplay at 0x7f3aca467e50>"
            ]
          },
          "metadata": {
            "tags": []
          },
          "execution_count": 11
        },
        {
          "output_type": "display_data",
          "data": {
            "image/png": "[encoded data removed]",
            "text/plain": [
              "<Figure size 432x288 with 2 Axes>"
            ]
          },
          "metadata": {
            "tags": [],
            "needs_background": "light"
          }
        }
      ]
    },
    {
      "cell_type": "markdown",
      "metadata": {
        "id": "mumyDuYZqpna"
      },
      "source": [
        "### Ejercicio 3: Árboles de Decisión\n",
        "En este ejercicio se entrenarán árboles de decisión para predecir la variable objetivo.\n",
        "\n",
        "Para ello, deberán utilizar la clase DecisionTreeClassifier de scikit-learn.\n",
        "\n",
        "**Documentación:**\n",
        "\n",
        "* https://scikit-learn.org/stable/modules/tree.html\n",
        "* https://scikit-learn.org/stable/modules/tree.html#tips-on-practical-use\n",
        "* https://scikit-learn.org/stable/modules/generated/sklearn.tree.DecisionTreeClassifier.html\n",
        "* https://scikit-learn.org/stable/auto_examples/tree/plot_unveil_tree_structure.html"
      ]
    },
    {
      "cell_type": "markdown",
      "metadata": {
        "id": "l-6v9RBlqsi-"
      },
      "source": [
        "#### Ejercicio 3.1: DecisionTreeClassifier con hiperparámetros por defecto\n",
        "Entrenar y evaluar el clasificador DecisionTreeClassifier usando los valores por omisión de scikit-learn para todos los parámetros. Únicamente fijar la semilla aleatoria para hacer repetible el experimento.\n",
        "\n",
        "Evaluar sobre el conjunto de entrenamiento y sobre el conjunto de evaluación, reportando:\n",
        "\n",
        "* Accuracy\n",
        "* Precision\n",
        "* Recall\n",
        "* F1\n",
        "* matriz de confusión"
      ]
    },
    {
      "cell_type": "code",
      "metadata": {
        "id": "deEXigQ6q1YC"
      },
      "source": [
        "from sklearn.tree import DecisionTreeClassifier"
      ],
      "execution_count": null,
      "outputs": []
    },
    {
      "cell_type": "code",
      "metadata": {
        "colab": {
          "base_uri": "https://localhost:8080/"
        },
        "id": "gI08NiScq1Pf",
        "outputId": "d9930ab9-acd2-4ffd-e435-41a5027403e2"
      },
      "source": [
        "clf_tree = DecisionTreeClassifier()\n",
        "clf_tree.fit(X_train, y_train)\n",
        "\n",
        "y_pred = clf_tree.predict(X_test)\n",
        "print(classification_report(y_test, y_pred))"
      ],
      "execution_count": null,
      "outputs": [
        {
          "output_type": "stream",
          "text": [
            "              precision    recall  f1-score   support\n",
            "\n",
            "           0       0.93      0.94      0.93       313\n",
            "           1       0.64      0.62      0.63        58\n",
            "\n",
            "    accuracy                           0.89       371\n",
            "   macro avg       0.79      0.78      0.78       371\n",
            "weighted avg       0.89      0.89      0.89       371\n",
            "\n"
          ],
          "name": "stdout"
        }
      ]
    },
    {
      "cell_type": "code",
      "metadata": {
        "id": "kbgtjmHd-Rch",
        "colab": {
          "base_uri": "https://localhost:8080/",
          "height": 296
        },
        "outputId": "21ce4636-347d-402d-bad8-026bb9063e13"
      },
      "source": [
        "plot_confusion_matrix(clf_tree, X_test, y_test)"
      ],
      "execution_count": null,
      "outputs": [
        {
          "output_type": "execute_result",
          "data": {
            "text/plain": [
              "<sklearn.metrics._plot.confusion_matrix.ConfusionMatrixDisplay at 0x7f3ac90d5d90>"
            ]
          },
          "metadata": {
            "tags": []
          },
          "execution_count": 14
        },
        {
          "output_type": "display_data",
          "data": {
            "image/png": "[encoded data removed]",
            "text/plain": [
              "<Figure size 432x288 with 2 Axes>"
            ]
          },
          "metadata": {
            "tags": [],
            "needs_background": "light"
          }
        }
      ]
    },
    {
      "cell_type": "markdown",
      "metadata": {
        "id": "SZXDlvuBqJRu"
      },
      "source": [
        "#### Ejercicio 3.2: Ajuste de Hiperparámetros\n",
        "Seleccionar valores para los hiperparámetros principales del DecisionTreeClassifier. Como mínimo, probar diferentes criterios de partición (criterion), profundidad máxima del árbol (max_depth), y cantidad mínima de samples por hoja (min_samples_leaf).\n",
        "\n",
        "Para ello, usar grid-search y 5-fold cross-validation sobre el conjunto de entrenamiento para explorar muchas combinaciones posibles de valores.\n",
        "\n",
        "Reportar accuracy promedio y varianza para todas las configuraciones.\n",
        "\n",
        "Para la mejor configuración encontrada, evaluar sobre el conjunto de entrenamiento y sobre el conjunto de evaluación, reportando:\n",
        "\n",
        "* Accuracy\n",
        "* Precision\n",
        "* Recall\n",
        "* F1\n",
        "* matriz de confusión\n",
        "\n",
        "\n",
        "**Documentación:**\n",
        "* https://scikit-learn.org/stable/modules/grid_search.html\n",
        "* https://scikit-learn.org/stable/modules/generated/sklearn.model_selection.GridSearchCV.html"
      ]
    },
    {
      "cell_type": "code",
      "metadata": {
        "id": "OH1EYyyL-9hu"
      },
      "source": [
        "param_grid = {\n",
        "    'criterion':  [\"gini\", \"entropy\"],\n",
        "    \"splitter\" : [\"best\", \"random\"],\n",
        "    \"max_depth\": [3, 5, 8, 10, 15],\n",
        "    \"min_samples_leaf\": [2,4,6,8,10]\n",
        "}"
      ],
      "execution_count": null,
      "outputs": []
    },
    {
      "cell_type": "code",
      "metadata": {
        "colab": {
          "base_uri": "https://localhost:8080/",
          "height": 204
        },
        "id": "4U_bo8oVq2M7",
        "outputId": "2ef30fb5-67e5-4b00-adad-f2aae8ae0863"
      },
      "source": [
        "clf = GridSearchCV(DecisionTreeClassifier(), param_grid,scoring='accuracy', cv=3)\n",
        "clf.fit(X_train, y_train)\n",
        "\n",
        "results = clf.cv_results_\n",
        "df = pd.DataFrame(results)\n",
        "val = df[['params', 'mean_test_score', 'std_test_score', 'rank_test_score']].sort_values('rank_test_score')[:5]\n",
        "val"
      ],
      "execution_count": null,
      "outputs": [
        {
          "output_type": "execute_result",
          "data": {
            "text/html": [
              "<div>\n",
              "<style scoped>\n",
              "    .dataframe tbody tr th:only-of-type {\n",
              "        vertical-align: middle;\n",
              "    }\n",
              "\n",
              "    .dataframe tbody tr th {\n",
              "        vertical-align: top;\n",
              "    }\n",
              "\n",
              "    .dataframe thead th {\n",
              "        text-align: right;\n",
              "    }\n",
              "</style>\n",
              "<table border=\"1\" class=\"dataframe\">\n",
              "  <thead>\n",
              "    <tr style=\"text-align: right;\">\n",
              "      <th></th>\n",
              "      <th>params</th>\n",
              "      <th>mean_test_score</th>\n",
              "      <th>std_test_score</th>\n",
              "      <th>rank_test_score</th>\n",
              "    </tr>\n",
              "  </thead>\n",
              "  <tbody>\n",
              "    <tr>\n",
              "      <th>20</th>\n",
              "      <td>{'criterion': 'gini', 'max_depth': 8, 'min_sam...</td>\n",
              "      <td>0.878632</td>\n",
              "      <td>0.008621</td>\n",
              "      <td>1</td>\n",
              "    </tr>\n",
              "    <tr>\n",
              "      <th>41</th>\n",
              "      <td>{'criterion': 'gini', 'max_depth': 15, 'min_sa...</td>\n",
              "      <td>0.875270</td>\n",
              "      <td>0.018442</td>\n",
              "      <td>2</td>\n",
              "    </tr>\n",
              "    <tr>\n",
              "      <th>26</th>\n",
              "      <td>{'criterion': 'gini', 'max_depth': 8, 'min_sam...</td>\n",
              "      <td>0.875267</td>\n",
              "      <td>0.014861</td>\n",
              "      <td>3</td>\n",
              "    </tr>\n",
              "    <tr>\n",
              "      <th>24</th>\n",
              "      <td>{'criterion': 'gini', 'max_depth': 8, 'min_sam...</td>\n",
              "      <td>0.875257</td>\n",
              "      <td>0.004931</td>\n",
              "      <td>4</td>\n",
              "    </tr>\n",
              "    <tr>\n",
              "      <th>28</th>\n",
              "      <td>{'criterion': 'gini', 'max_depth': 8, 'min_sam...</td>\n",
              "      <td>0.874595</td>\n",
              "      <td>0.018272</td>\n",
              "      <td>5</td>\n",
              "    </tr>\n",
              "  </tbody>\n",
              "</table>\n",
              "</div>"
            ],
            "text/plain": [
              "                                               params  ...  rank_test_score\n",
              "20  {'criterion': 'gini', 'max_depth': 8, 'min_sam...  ...                1\n",
              "41  {'criterion': 'gini', 'max_depth': 15, 'min_sa...  ...                2\n",
              "26  {'criterion': 'gini', 'max_depth': 8, 'min_sam...  ...                3\n",
              "24  {'criterion': 'gini', 'max_depth': 8, 'min_sam...  ...                4\n",
              "28  {'criterion': 'gini', 'max_depth': 8, 'min_sam...  ...                5\n",
              "\n",
              "[5 rows x 4 columns]"
            ]
          },
          "metadata": {
            "tags": []
          },
          "execution_count": 16
        }
      ]
    },
    {
      "cell_type": "code",
      "metadata": {
        "colab": {
          "base_uri": "https://localhost:8080/"
        },
        "id": "m8CuBK5Spx0x",
        "outputId": "7b733c86-1f10-48cc-bbdf-eeeccf830bc4"
      },
      "source": [
        "for i in range(3):\n",
        "  criterion, splitter, max_depth, min_samples_leaf = itemgetter('criterion','splitter','max_depth', \"min_samples_leaf\")(val.params.iloc[i])\n",
        "  \n",
        "  print(\"CASE :: \",i,\"criterion:\", criterion,\"\\t splitter:\", splitter, \"\\t max_depth:\", max_depth, \"\\t min_samples_leaf\", min_samples_leaf)\n",
        "\n",
        "  clf_best = DecisionTreeClassifier(criterion=criterion, splitter=splitter, max_depth=max_depth, min_samples_leaf=min_samples_leaf)\n",
        "  clf_best.fit(X_train, y_train)\n",
        "  y_pred = clf_best.predict(X_test)\n",
        "  print(classification_report(y_test, y_pred))\n",
        "  print(\"\\n\")"
      ],
      "execution_count": null,
      "outputs": [
        {
          "output_type": "stream",
          "text": [
            "CASE ::  0 criterion: gini \t splitter: best \t max_depth: 8 \t min_samples_leaf 2\n",
            "              precision    recall  f1-score   support\n",
            "\n",
            "           0       0.91      0.95      0.93       313\n",
            "           1       0.64      0.50      0.56        58\n",
            "\n",
            "    accuracy                           0.88       371\n",
            "   macro avg       0.78      0.72      0.75       371\n",
            "weighted avg       0.87      0.88      0.87       371\n",
            "\n",
            "\n",
            "\n",
            "CASE ::  1 criterion: gini \t splitter: random \t max_depth: 15 \t min_samples_leaf 2\n",
            "              precision    recall  f1-score   support\n",
            "\n",
            "           0       0.91      0.97      0.94       313\n",
            "           1       0.77      0.47      0.58        58\n",
            "\n",
            "    accuracy                           0.89       371\n",
            "   macro avg       0.84      0.72      0.76       371\n",
            "weighted avg       0.89      0.89      0.88       371\n",
            "\n",
            "\n",
            "\n",
            "CASE ::  2 criterion: gini \t splitter: best \t max_depth: 8 \t min_samples_leaf 8\n",
            "              precision    recall  f1-score   support\n",
            "\n",
            "           0       0.92      0.94      0.93       313\n",
            "           1       0.63      0.53      0.58        58\n",
            "\n",
            "    accuracy                           0.88       371\n",
            "   macro avg       0.77      0.74      0.75       371\n",
            "weighted avg       0.87      0.88      0.87       371\n",
            "\n",
            "\n",
            "\n"
          ],
          "name": "stdout"
        }
      ]
    },
    {
      "cell_type": "code",
      "metadata": {
        "id": "h0ZGVPZS-kvY",
        "colab": {
          "base_uri": "https://localhost:8080/",
          "height": 296
        },
        "outputId": "add29fa0-af47-4289-b7c9-239d039eeff4"
      },
      "source": [
        "plot_confusion_matrix(clf_best, X_test, y_test)"
      ],
      "execution_count": null,
      "outputs": [
        {
          "output_type": "execute_result",
          "data": {
            "text/plain": [
              "<sklearn.metrics._plot.confusion_matrix.ConfusionMatrixDisplay at 0x7f3ac88b9f10>"
            ]
          },
          "metadata": {
            "tags": []
          },
          "execution_count": 20
        },
        {
          "output_type": "display_data",
          "data": {
            "image/png": "[encoded data removed]",
            "text/plain": [
              "<Figure size 432x288 with 2 Axes>"
            ]
          },
          "metadata": {
            "tags": [],
            "needs_background": "light"
          }
        }
      ]
    }
  ]
}